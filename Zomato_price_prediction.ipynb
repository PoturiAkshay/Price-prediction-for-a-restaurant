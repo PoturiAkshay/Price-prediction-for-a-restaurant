{
 "cells": [
  {
   "cell_type": "markdown",
   "metadata": {},
   "source": [
    "\n",
    "# <center> Assignment-1 </center>\n",
    "# <center> Akshay Reddy Poturi - B00822804 </center>\n",
    "# <center> Lakshmi Manjari Alapati - B00825788 </center>"
   ]
  },
  {
   "cell_type": "markdown",
   "metadata": {},
   "source": [
    "# Introduction\n",
    "\n",
    "\n",
    "---\n",
    "\n",
    "\n",
    "\n",
    "**Data Set URL:**\n",
    "\n",
    "[https://www.kaggle.com/himanshupoddar/zomato-bangalore-restaurants](https://www.kaggle.com/himanshupoddar/zomato-bangalore-restaurants)\n",
    "\n",
    "**Data Set description**:\n",
    "\n",
    "The Zomato dataset provided for this assignment contains data about more than 12000 different restaurants available in banglore city of india. This dataset provides the detailed information of the restaurants from zomato database. \n",
    "\n",
    "This dataset can be used to study and analyse the type of restaurants which customers are liking and places or locations where a particular restaurant can withstand the competion depending on various attributes such as locality, type of restaurant, cuisines offered, approximate cost in the restaurant etc.\n",
    "\n",
    "**Attrubite description:**\n",
    "\n",
    "1.   URL - URL of the restaurant from zomato website\n",
    "2.   address - address of the restaurant\n",
    "3.   name - name of the restaurant\n",
    "4.   online_order - availability of online order (yes/no)\n",
    "5.   book_table - availability to book table (yes/no)\n",
    "6.   rate - average rating of the restaurant\n",
    "7.   votes - total number of ratings\n",
    "8.   phone - phone number of restaurant\n",
    "9.   location - neighbourhood of the restaurant\n",
    "10. rest_type - type of restaurant\n",
    "11. dish_liked - list of dishes people liked in the restaurant\n",
    "12. cuisines - food styles of the restaurant\n",
    "13. approx_cost(for two people) - approximate cost of meal for two people\n",
    "14. reviews_list - list containing rating and review by the customers\n",
    "15. menu_item - menu of the restaurant\n",
    "16. listed_in(type) - type of order(delivery/dine-in/buffet etc)\n",
    "17. listed_in_city - neighbourhood in which the restaurant is listed\n"
   ]
  },
  {
   "cell_type": "code",
   "execution_count": 13,
   "metadata": {
    "colab": {},
    "colab_type": "code",
    "id": "NT0gQukH3ZdD"
   },
   "outputs": [],
   "source": [
    "# LOAD DATA\n",
    "import pandas as pd\n",
    " \n",
    "df = pd.read_csv(\"zomato.csv\")"
   ]
  },
  {
   "cell_type": "code",
   "execution_count": 14,
   "metadata": {},
   "outputs": [
    {
     "data": {
      "text/plain": [
       "(51717, 17)"
      ]
     },
     "execution_count": 14,
     "metadata": {},
     "output_type": "execute_result"
    }
   ],
   "source": [
    "df.shape"
   ]
  },
  {
   "cell_type": "code",
   "execution_count": 15,
   "metadata": {
    "colab": {},
    "colab_type": "code",
    "id": "ahelsybB3ZdG",
    "outputId": "fe402faf-85e4-47f6-e9c6-b7588d20b106"
   },
   "outputs": [
    {
     "data": {
      "text/plain": [
       "Index(['url', 'address', 'name', 'online_order', 'book_table', 'rate', 'votes',\n",
       "       'phone', 'location', 'rest_type', 'dish_liked', 'cuisines',\n",
       "       'approx_cost(for two people)', 'reviews_list', 'menu_item',\n",
       "       'listed_in(type)', 'listed_in(city)'],\n",
       "      dtype='object')"
      ]
     },
     "execution_count": 15,
     "metadata": {},
     "output_type": "execute_result"
    }
   ],
   "source": [
    "#checking all the attributes present in the data\n",
    "df.columns"
   ]
  },
  {
   "cell_type": "code",
   "execution_count": 16,
   "metadata": {
    "colab": {},
    "colab_type": "code",
    "id": "NjR9w9la3ZdL",
    "outputId": "7014bb0b-1485-4234-cfb6-f5c078ebdd68"
   },
   "outputs": [
    {
     "data": {
      "text/plain": [
       "url                                0\n",
       "address                            0\n",
       "name                               0\n",
       "online_order                       0\n",
       "book_table                         0\n",
       "rate                            7775\n",
       "votes                              0\n",
       "phone                           1208\n",
       "location                          21\n",
       "rest_type                        227\n",
       "dish_liked                     28078\n",
       "cuisines                          45\n",
       "approx_cost(for two people)      346\n",
       "reviews_list                       0\n",
       "menu_item                          0\n",
       "listed_in(type)                    0\n",
       "listed_in(city)                    0\n",
       "dtype: int64"
      ]
     },
     "execution_count": 16,
     "metadata": {},
     "output_type": "execute_result"
    }
   ],
   "source": [
    "# finding columns with null values in the given dataset\n",
    "df.isna().sum()"
   ]
  },
  {
   "cell_type": "code",
   "execution_count": 17,
   "metadata": {
    "colab": {},
    "colab_type": "code",
    "id": "_ssaHqJK3ZdP",
    "outputId": "af1d147b-52b9-4c5c-b27e-9fc94e621fd1"
   },
   "outputs": [
    {
     "data": {
      "text/plain": [
       "39617"
      ]
     },
     "execution_count": 17,
     "metadata": {},
     "output_type": "execute_result"
    }
   ],
   "source": [
    "# number of records with empty listed values for \"menu_item\" column\n",
    "\n",
    "len(df.loc[df['menu_item'] == '[]'])"
   ]
  },
  {
   "cell_type": "markdown",
   "metadata": {
    "colab_type": "text",
    "id": "gUvPgu3E3fha"
   },
   "source": [
    "# Exploring the data\n",
    "\n",
    "---\n",
    "\n",
    "*   The data frame contains a total of 51717 rows and 17 columns.\n",
    "*   Once the data is loaded into the data frame \"df\", we tried to check total number of null values that exist in each of the column.\n",
    "*   A total of 7775 null values are found in \"rate\" column and can be considered to remove from the data. However, we decided to keep it since the assignment excepts us to work further on this column.\n",
    "*   \"phone\" column contains 1208 null values and so, we have decided to remove this column\n",
    "*   \"dish_liked\" column contains 28078 null values and so this column is decided to be removed\n",
    "* Even though \"menu_item\" does not show any null values, the above command shows the number of empty listed values which is 39617. So, we have decided to remove this column.\n",
    "* The column \"url\" is considered to be useless at this point and so, it is decided to be removed.\n",
    "*    The columns \"location\", \"rest_type\", \"cuisines\" and \"approx_cost (for two people)\" contains minimal number of null values and so, they can be handled in the data during preprocessing without removing them.  \n",
    "*    Before plotting the attributes, we are performing slice and replace operations on RATE and APPROX_COST(FOR TWO PEOPLE) columns to remove \"/5\"s in RATE column, and commas in APPROX_COST(FOR TWO PEOPLE) column. \"NEW\", \"-\" values in RATE column and null values in both the column will be replaced with meaningful values in later phase of the assignment.\n",
    "\n"
   ]
  },
  {
   "cell_type": "code",
   "execution_count": 18,
   "metadata": {
    "colab": {},
    "colab_type": "code",
    "id": "dvhFghtq3ZdT"
   },
   "outputs": [],
   "source": [
    "# RATE and APPROX_COST(FOR TWO PEOPLE)\n",
    "\n",
    "# slicing RATE into decimals and convert to float\n",
    "df.rate = df.rate.str.slice(0,3)\n",
    "\n",
    "# removing commas in the values\n",
    "df['approx_cost(for two people)']= df['approx_cost(for two people)'].str.replace(',', '')"
   ]
  },
  {
   "cell_type": "markdown",
   "metadata": {
    "colab_type": "text",
    "id": "hsiHPOuB67mg"
   },
   "source": [
    "# Plot distribution of attributes\n",
    "\n"
   ]
  },
  {
   "cell_type": "markdown",
   "metadata": {
    "colab_type": "text",
    "id": "wKQs29dm7E5t"
   },
   "source": [
    "### Plot \"rate\" column: \n",
    "\n"
   ]
  },
  {
   "cell_type": "code",
   "execution_count": 50,
   "metadata": {
    "colab": {},
    "colab_type": "code",
    "id": "2CKmGmW53ZdX",
    "outputId": "52eb64cd-9827-45a0-d530-aec6599a47ab"
   },
   "outputs": [
    {
     "data": {
      "text/plain": [
       "<matplotlib.axes._subplots.AxesSubplot at 0x242cf776e10>"
      ]
     },
     "execution_count": 50,
     "metadata": {},
     "output_type": "execute_result"
    },
    {
     "data": {
      "image/png": "[encoded data removed]",
      "text/plain": [
       "<Figure size 720x288 with 1 Axes>"
      ]
     },
     "metadata": {
      "needs_background": "light"
     },
     "output_type": "display_data"
    }
   ],
   "source": [
    "#plot RATE column frequency\n",
    "df['rate'].value_counts().plot(kind='bar', figsize=(10, 4))"
   ]
  },
  {
   "cell_type": "markdown",
   "metadata": {
    "colab_type": "text",
    "id": "u6JCbIiK79td"
   },
   "source": [
    "### Plot \"listed_in(city)\" column: "
   ]
  },
  {
   "cell_type": "code",
   "execution_count": 51,
   "metadata": {
    "colab": {},
    "colab_type": "code",
    "id": "RKwZi6b23Zdb",
    "outputId": "e4b6acf3-f1cb-4488-fd6c-15d9851e442a"
   },
   "outputs": [
    {
     "data": {
      "text/plain": [
       "<matplotlib.axes._subplots.AxesSubplot at 0x242b7ebf390>"
      ]
     },
     "execution_count": 51,
     "metadata": {},
     "output_type": "execute_result"
    },
    {
     "data": {
      "image/png": "[encoded data removed]",
      "text/plain": [
       "<Figure size 432x288 with 1 Axes>"
      ]
     },
     "metadata": {
      "needs_background": "light"
     },
     "output_type": "display_data"
    }
   ],
   "source": [
    "#plot LISTED_IN(CITY) column frequency\n",
    "df['listed_in(city)'].value_counts().plot(kind='bar')"
   ]
  },
  {
   "cell_type": "markdown",
   "metadata": {
    "colab_type": "text",
    "id": "gNU6lK608Bma"
   },
   "source": [
    "### Plot \"online_order\" column: \n",
    "\n"
   ]
  },
  {
   "cell_type": "code",
   "execution_count": 52,
   "metadata": {
    "colab": {},
    "colab_type": "code",
    "id": "BpN8wz_o3Zde",
    "outputId": "62accdda-f307-49a4-f62a-f98a0a74ef8b"
   },
   "outputs": [
    {
     "data": {
      "text/plain": [
       "<matplotlib.axes._subplots.AxesSubplot at 0x242c3503080>"
      ]
     },
     "execution_count": 52,
     "metadata": {},
     "output_type": "execute_result"
    },
    {
     "data": {
      "image/png": "[encoded data removed]",
      "text/plain": [
       "<Figure size 432x288 with 1 Axes>"
      ]
     },
     "metadata": {
      "needs_background": "light"
     },
     "output_type": "display_data"
    }
   ],
   "source": [
    "#plot ONLINE_ORDER column frequency\n",
    "df['online_order'].value_counts().plot(kind='bar')"
   ]
  },
  {
   "cell_type": "markdown",
   "metadata": {
    "colab_type": "text",
    "id": "Zz7Vt40M8FQD"
   },
   "source": [
    "### Plot \"book_table\" column: "
   ]
  },
  {
   "cell_type": "code",
   "execution_count": 53,
   "metadata": {
    "colab": {},
    "colab_type": "code",
    "id": "Y1JMChuw3Zdi",
    "outputId": "14dedbd7-c78e-458d-83d3-da31bce6fdbc"
   },
   "outputs": [
    {
     "data": {
      "text/plain": [
       "<matplotlib.axes._subplots.AxesSubplot at 0x242c3560a20>"
      ]
     },
     "execution_count": 53,
     "metadata": {},
     "output_type": "execute_result"
    },
    {
     "data": {
      "image/png": "[encoded data removed]",
      "text/plain": [
       "<Figure size 432x288 with 1 Axes>"
      ]
     },
     "metadata": {
      "needs_background": "light"
     },
     "output_type": "display_data"
    }
   ],
   "source": [
    "#plot BOOK_TABLE column frequency\n",
    "df['book_table'].value_counts().plot(kind='bar')"
   ]
  },
  {
   "cell_type": "markdown",
   "metadata": {
    "colab_type": "text",
    "id": "QAgiWfz68Lff"
   },
   "source": [
    "### Plot \"listed_in(type)\" column:\n"
   ]
  },
  {
   "cell_type": "code",
   "execution_count": 54,
   "metadata": {
    "colab": {},
    "colab_type": "code",
    "id": "fn_IXrYo3Zdl",
    "outputId": "ccee46fb-a642-440d-e446-9f15da0e828e"
   },
   "outputs": [
    {
     "data": {
      "text/plain": [
       "<matplotlib.axes._subplots.AxesSubplot at 0x242c358f860>"
      ]
     },
     "execution_count": 54,
     "metadata": {},
     "output_type": "execute_result"
    },
    {
     "data": {
      "image/png": "[encoded data removed]",
      "text/plain": [
       "<Figure size 432x288 with 1 Axes>"
      ]
     },
     "metadata": {
      "needs_background": "light"
     },
     "output_type": "display_data"
    }
   ],
   "source": [
    "#plot TYPE_OF_MEAL column frequency\n",
    "df['listed_in(type)'].value_counts().plot(kind='bar')"
   ]
  },
  {
   "cell_type": "markdown",
   "metadata": {
    "colab_type": "text",
    "id": "DEPaI2nJ8gy1"
   },
   "source": [
    "# Data Cleaning\n",
    "\n",
    "---\n",
    "\n",
    "\n",
    "*   Removed columns \"phone\", \"url\", \"dish_liked\", \"menu_item\"\n",
    "*   Renamed the columns \"listed_in(type)\" and \"rest_type\"\n",
    "* Changed all the column names to upper case\n",
    "* Dropped the duplicate rows in all 13 columns\n",
    "* Deleted the restaurant duplicates from the data. We have assumed the restaurants as duplicates if they share same name and address.\n",
    "* Dropped rows if all the 5 major columns mentioned in the assignment contains null values. i.e., RATE, LOCATION, RESTAURANT_TYPE, CUISINES and APPROX_COST(FOR TWO PEOPLE)\n",
    "* Replaced null values in RESTAURANT_TYPE and CUISINES with \"N/A\"\n",
    "* All the values in the RATE column that are \"New\", \"-\" and null are replaced with mean rating of the respective locations. The value of this column is rounded to 1 decimal place. The rows that are still remained with null are deleted.\n",
    "* All the null values in the APPROX_COST(FOR TWO PEOPLE) column are replaced with mean cost of the respective locations. The value of this column is rounded to 2 decimal places. The rows that are still remained with null are deleted.\n"
   ]
  },
  {
   "cell_type": "code",
   "execution_count": 19,
   "metadata": {
    "colab": {},
    "colab_type": "code",
    "id": "WZiV94nH3ZeB"
   },
   "outputs": [],
   "source": [
    "#deleting the unwanted columns\n",
    "\n",
    "del df['phone']\n",
    "del df['url']\n",
    "del df['dish_liked']\n",
    "del df['menu_item']"
   ]
  },
  {
   "cell_type": "code",
   "execution_count": 20,
   "metadata": {
    "colab": {},
    "colab_type": "code",
    "id": "fD_3Mx3L3Zdp"
   },
   "outputs": [],
   "source": [
    "#renaming the columns\n",
    "df=df.rename(columns = {'rest_type':'restaurant_type','listed_in(type)':'type_of_meal'})\n",
    "\n",
    "#converting all the columns to upper case\n",
    "df.columns = df.columns.str.upper()"
   ]
  },
  {
   "cell_type": "code",
   "execution_count": 21,
   "metadata": {
    "colab": {},
    "colab_type": "code",
    "id": "tqn8MGsh3Zdr"
   },
   "outputs": [],
   "source": [
    "# drop all duplicate rows\n",
    "df.drop_duplicates(keep=False,inplace=True) \n",
    "\n",
    "# removing the duplicate restaurants\n",
    "df = df.drop_duplicates(['NAME','ADDRESS'], keep= 'first')"
   ]
  },
  {
   "cell_type": "code",
   "execution_count": 22,
   "metadata": {
    "colab": {},
    "colab_type": "code",
    "id": "gvx16fRO3Zdu"
   },
   "outputs": [],
   "source": [
    "# delete rows with null values for all 5 major attributes\n",
    "values = df[(df['RATE'].isna())\n",
    "            & (df['LOCATION'].isna()) \n",
    "            & (df['RESTAURANT_TYPE'].isna()) \n",
    "            & (df['CUISINES'].isna()) \n",
    "            & (df['APPROX_COST(FOR TWO PEOPLE)'].isna())].index\n",
    "df.drop(values , inplace=True)"
   ]
  },
  {
   "cell_type": "code",
   "execution_count": 23,
   "metadata": {
    "colab": {},
    "colab_type": "code",
    "id": "8rOvic1t3Zdx"
   },
   "outputs": [],
   "source": [
    "# replacing null values with 'N/A' for RESTAURANT_TYPE, CUISINES columns\n",
    "\n",
    "df ['RESTAURANT_TYPE'].fillna('N/A',inplace=True)\n",
    "df ['CUISINES'].fillna('N/A',inplace=True)"
   ]
  },
  {
   "cell_type": "code",
   "execution_count": 24,
   "metadata": {},
   "outputs": [],
   "source": [
    "# RATE\n",
    "\n",
    "import numpy as np\n",
    "\n",
    "# replacing nulls, 'NEW', '-' values with NaN \n",
    "df['RATE'] = df['RATE'].replace('NEW', np.NaN)\n",
    "df['RATE'] = df['RATE'].replace('-', np.NaN)\n",
    "df ['RATE'].fillna(np.NaN,inplace=True)\n",
    "\n",
    "df.RATE = df.RATE.astype(float)\n",
    "\n",
    "# replace NaN values in RATE column with mean grouping by LOCATION, RESTAURANT_TYPE\n",
    "df['RATE'] = df.groupby(['LOCATION','RESTAURANT_TYPE'])['RATE'].transform(lambda x: x.fillna(x.mean()))"
   ]
  },
  {
   "cell_type": "code",
   "execution_count": 25,
   "metadata": {
    "colab": {},
    "colab_type": "code",
    "id": "O9RcPS6p3ZdV"
   },
   "outputs": [],
   "source": [
    "# APPROX_COST(FOR TWO PEOPLE)\n",
    "\n",
    "# replace nulls with NaN and convert column to float\n",
    "df['APPROX_COST(FOR TWO PEOPLE)'].fillna(np.NaN,inplace=True)\n",
    "df['APPROX_COST(FOR TWO PEOPLE)'] = df['APPROX_COST(FOR TWO PEOPLE)'].astype(float)\n",
    "\n",
    "# replace NaN values with mean grouping by LOCATION, RESTAURANT_TYPE\n",
    "df['APPROX_COST(FOR TWO PEOPLE)'] = df.groupby(['LOCATION','RESTAURANT_TYPE'])['APPROX_COST(FOR TWO PEOPLE)'].transform(lambda x: x.fillna(x.mean()))"
   ]
  },
  {
   "cell_type": "code",
   "execution_count": 26,
   "metadata": {
    "colab": {},
    "colab_type": "code",
    "id": "JVdgBrv63Zd-"
   },
   "outputs": [],
   "source": [
    "# rounding the RATE and APPROX_COST(FOR TWO PEOPLE) columns to fixed number of decimal places\n",
    "\n",
    "df.RATE = round(df.RATE,1)\n",
    "df['APPROX_COST(FOR TWO PEOPLE)'] = round(df['APPROX_COST(FOR TWO PEOPLE)'],2)"
   ]
  },
  {
   "cell_type": "code",
   "execution_count": 27,
   "metadata": {
    "colab": {},
    "colab_type": "code",
    "id": "iHG9ADd_3Zd7"
   },
   "outputs": [],
   "source": [
    "# removing remaining null rows\n",
    "\n",
    "df = df[pd.notna(df['RATE'])]\n",
    "df = df[pd.notna(df['APPROX_COST(FOR TWO PEOPLE)'])]"
   ]
  },
  {
   "cell_type": "markdown",
   "metadata": {
    "colab_type": "text",
    "id": "JkwrlioO_0tX"
   },
   "source": [
    "# Trends observed in data"
   ]
  },
  {
   "cell_type": "markdown",
   "metadata": {
    "colab_type": "text",
    "id": "SyuOHqrU__Gv"
   },
   "source": [
    "---\n",
    "---\n",
    "1) There are a total of 87 unique restaurant types and the below observation shows the locations covering number of restaurant types.\n",
    "\n",
    "The locations such as \"Whitefield\", \" Indira Nagar\", \"HSR\" covers around half of the restaurant types where as locations including \"koramangala\", \"Yelahanka\" are covering only one restaurant type. "
   ]
  },
  {
   "cell_type": "code",
   "execution_count": 67,
   "metadata": {},
   "outputs": [
    {
     "data": {
      "text/html": [
       "<div>\n",
       "<style scoped>\n",
       "    .dataframe tbody tr th:only-of-type {\n",
       "        vertical-align: middle;\n",
       "    }\n",
       "\n",
       "    .dataframe tbody tr th {\n",
       "        vertical-align: top;\n",
       "    }\n",
       "\n",
       "    .dataframe thead th {\n",
       "        text-align: right;\n",
       "    }\n",
       "</style>\n",
       "<table border=\"1\" class=\"dataframe\">\n",
       "  <thead>\n",
       "    <tr style=\"text-align: right;\">\n",
       "      <th></th>\n",
       "      <th>RESTAURANT_TYPE</th>\n",
       "    </tr>\n",
       "    <tr>\n",
       "      <th>LOCATION</th>\n",
       "      <th></th>\n",
       "    </tr>\n",
       "  </thead>\n",
       "  <tbody>\n",
       "    <tr>\n",
       "      <th>Whitefield</th>\n",
       "      <td>45</td>\n",
       "    </tr>\n",
       "    <tr>\n",
       "      <th>Indiranagar</th>\n",
       "      <td>41</td>\n",
       "    </tr>\n",
       "    <tr>\n",
       "      <th>HSR</th>\n",
       "      <td>40</td>\n",
       "    </tr>\n",
       "    <tr>\n",
       "      <th>Bellandur</th>\n",
       "      <td>36</td>\n",
       "    </tr>\n",
       "    <tr>\n",
       "      <th>Marathahalli</th>\n",
       "      <td>36</td>\n",
       "    </tr>\n",
       "    <tr>\n",
       "      <th>JP Nagar</th>\n",
       "      <td>34</td>\n",
       "    </tr>\n",
       "    <tr>\n",
       "      <th>Electronic City</th>\n",
       "      <td>32</td>\n",
       "    </tr>\n",
       "    <tr>\n",
       "      <th>Malleshwaram</th>\n",
       "      <td>32</td>\n",
       "    </tr>\n",
       "    <tr>\n",
       "      <th>Koramangala 5th Block</th>\n",
       "      <td>32</td>\n",
       "    </tr>\n",
       "    <tr>\n",
       "      <th>Bannerghatta Road</th>\n",
       "      <td>30</td>\n",
       "    </tr>\n",
       "    <tr>\n",
       "      <th>BTM</th>\n",
       "      <td>29</td>\n",
       "    </tr>\n",
       "    <tr>\n",
       "      <th>New BEL Road</th>\n",
       "      <td>27</td>\n",
       "    </tr>\n",
       "    <tr>\n",
       "      <th>Kalyan Nagar</th>\n",
       "      <td>27</td>\n",
       "    </tr>\n",
       "    <tr>\n",
       "      <th>Jayanagar</th>\n",
       "      <td>27</td>\n",
       "    </tr>\n",
       "    <tr>\n",
       "      <th>Sarjapur Road</th>\n",
       "      <td>26</td>\n",
       "    </tr>\n",
       "    <tr>\n",
       "      <th>MG Road</th>\n",
       "      <td>25</td>\n",
       "    </tr>\n",
       "    <tr>\n",
       "      <th>Koramangala 7th Block</th>\n",
       "      <td>25</td>\n",
       "    </tr>\n",
       "    <tr>\n",
       "      <th>Banashankari</th>\n",
       "      <td>24</td>\n",
       "    </tr>\n",
       "    <tr>\n",
       "      <th>Brigade Road</th>\n",
       "      <td>23</td>\n",
       "    </tr>\n",
       "    <tr>\n",
       "      <th>Koramangala 6th Block</th>\n",
       "      <td>23</td>\n",
       "    </tr>\n",
       "    <tr>\n",
       "      <th>Lavelle Road</th>\n",
       "      <td>22</td>\n",
       "    </tr>\n",
       "    <tr>\n",
       "      <th>Domlur</th>\n",
       "      <td>21</td>\n",
       "    </tr>\n",
       "    <tr>\n",
       "      <th>Old Airport Road</th>\n",
       "      <td>21</td>\n",
       "    </tr>\n",
       "    <tr>\n",
       "      <th>Banaswadi</th>\n",
       "      <td>21</td>\n",
       "    </tr>\n",
       "    <tr>\n",
       "      <th>Koramangala 4th Block</th>\n",
       "      <td>20</td>\n",
       "    </tr>\n",
       "    <tr>\n",
       "      <th>Frazer Town</th>\n",
       "      <td>19</td>\n",
       "    </tr>\n",
       "    <tr>\n",
       "      <th>Rajajinagar</th>\n",
       "      <td>18</td>\n",
       "    </tr>\n",
       "    <tr>\n",
       "      <th>Kammanahalli</th>\n",
       "      <td>18</td>\n",
       "    </tr>\n",
       "    <tr>\n",
       "      <th>Brookefield</th>\n",
       "      <td>18</td>\n",
       "    </tr>\n",
       "    <tr>\n",
       "      <th>Basaveshwara Nagar</th>\n",
       "      <td>18</td>\n",
       "    </tr>\n",
       "    <tr>\n",
       "      <th>...</th>\n",
       "      <td>...</td>\n",
       "    </tr>\n",
       "    <tr>\n",
       "      <th>Wilson Garden</th>\n",
       "      <td>8</td>\n",
       "    </tr>\n",
       "    <tr>\n",
       "      <th>Rammurthy Nagar</th>\n",
       "      <td>7</td>\n",
       "    </tr>\n",
       "    <tr>\n",
       "      <th>HBR Layout</th>\n",
       "      <td>7</td>\n",
       "    </tr>\n",
       "    <tr>\n",
       "      <th>Sankey Road</th>\n",
       "      <td>6</td>\n",
       "    </tr>\n",
       "    <tr>\n",
       "      <th>Infantry Road</th>\n",
       "      <td>6</td>\n",
       "    </tr>\n",
       "    <tr>\n",
       "      <th>City Market</th>\n",
       "      <td>5</td>\n",
       "    </tr>\n",
       "    <tr>\n",
       "      <th>Jalahalli</th>\n",
       "      <td>5</td>\n",
       "    </tr>\n",
       "    <tr>\n",
       "      <th>Ejipura</th>\n",
       "      <td>5</td>\n",
       "    </tr>\n",
       "    <tr>\n",
       "      <th>Koramangala 2nd Block</th>\n",
       "      <td>5</td>\n",
       "    </tr>\n",
       "    <tr>\n",
       "      <th>Old Madras Road</th>\n",
       "      <td>4</td>\n",
       "    </tr>\n",
       "    <tr>\n",
       "      <th>Varthur Main Road, Whitefield</th>\n",
       "      <td>4</td>\n",
       "    </tr>\n",
       "    <tr>\n",
       "      <th>Hosur Road</th>\n",
       "      <td>4</td>\n",
       "    </tr>\n",
       "    <tr>\n",
       "      <th>Magadi Road</th>\n",
       "      <td>3</td>\n",
       "    </tr>\n",
       "    <tr>\n",
       "      <th>Kanakapura Road</th>\n",
       "      <td>3</td>\n",
       "    </tr>\n",
       "    <tr>\n",
       "      <th>Hebbal</th>\n",
       "      <td>3</td>\n",
       "    </tr>\n",
       "    <tr>\n",
       "      <th>South Bangalore</th>\n",
       "      <td>3</td>\n",
       "    </tr>\n",
       "    <tr>\n",
       "      <th>East Bangalore</th>\n",
       "      <td>3</td>\n",
       "    </tr>\n",
       "    <tr>\n",
       "      <th>Mysore Road</th>\n",
       "      <td>2</td>\n",
       "    </tr>\n",
       "    <tr>\n",
       "      <th>KR Puram</th>\n",
       "      <td>2</td>\n",
       "    </tr>\n",
       "    <tr>\n",
       "      <th>Uttarahalli</th>\n",
       "      <td>2</td>\n",
       "    </tr>\n",
       "    <tr>\n",
       "      <th>North Bangalore</th>\n",
       "      <td>2</td>\n",
       "    </tr>\n",
       "    <tr>\n",
       "      <th>Langford Town</th>\n",
       "      <td>2</td>\n",
       "    </tr>\n",
       "    <tr>\n",
       "      <th>West Bangalore</th>\n",
       "      <td>2</td>\n",
       "    </tr>\n",
       "    <tr>\n",
       "      <th>Rajarajeshwari Nagar</th>\n",
       "      <td>2</td>\n",
       "    </tr>\n",
       "    <tr>\n",
       "      <th>Nagarbhavi</th>\n",
       "      <td>1</td>\n",
       "    </tr>\n",
       "    <tr>\n",
       "      <th>Central Bangalore</th>\n",
       "      <td>1</td>\n",
       "    </tr>\n",
       "    <tr>\n",
       "      <th>Peenya</th>\n",
       "      <td>1</td>\n",
       "    </tr>\n",
       "    <tr>\n",
       "      <th>Kengeri</th>\n",
       "      <td>1</td>\n",
       "    </tr>\n",
       "    <tr>\n",
       "      <th>Koramangala</th>\n",
       "      <td>1</td>\n",
       "    </tr>\n",
       "    <tr>\n",
       "      <th>Yelahanka</th>\n",
       "      <td>1</td>\n",
       "    </tr>\n",
       "  </tbody>\n",
       "</table>\n",
       "<p>92 rows × 1 columns</p>\n",
       "</div>"
      ],
      "text/plain": [
       "                               RESTAURANT_TYPE\n",
       "LOCATION                                      \n",
       "Whitefield                                  45\n",
       "Indiranagar                                 41\n",
       "HSR                                         40\n",
       "Bellandur                                   36\n",
       "Marathahalli                                36\n",
       "JP Nagar                                    34\n",
       "Electronic City                             32\n",
       "Malleshwaram                                32\n",
       "Koramangala 5th Block                       32\n",
       "Bannerghatta Road                           30\n",
       "BTM                                         29\n",
       "New BEL Road                                27\n",
       "Kalyan Nagar                                27\n",
       "Jayanagar                                   27\n",
       "Sarjapur Road                               26\n",
       "MG Road                                     25\n",
       "Koramangala 7th Block                       25\n",
       "Banashankari                                24\n",
       "Brigade Road                                23\n",
       "Koramangala 6th Block                       23\n",
       "Lavelle Road                                22\n",
       "Domlur                                      21\n",
       "Old Airport Road                            21\n",
       "Banaswadi                                   21\n",
       "Koramangala 4th Block                       20\n",
       "Frazer Town                                 19\n",
       "Rajajinagar                                 18\n",
       "Kammanahalli                                18\n",
       "Brookefield                                 18\n",
       "Basaveshwara Nagar                          18\n",
       "...                                        ...\n",
       "Wilson Garden                                8\n",
       "Rammurthy Nagar                              7\n",
       "HBR Layout                                   7\n",
       "Sankey Road                                  6\n",
       "Infantry Road                                6\n",
       "City Market                                  5\n",
       "Jalahalli                                    5\n",
       "Ejipura                                      5\n",
       "Koramangala 2nd Block                        5\n",
       "Old Madras Road                              4\n",
       "Varthur Main Road, Whitefield                4\n",
       "Hosur Road                                   4\n",
       "Magadi Road                                  3\n",
       "Kanakapura Road                              3\n",
       "Hebbal                                       3\n",
       "South Bangalore                              3\n",
       "East Bangalore                               3\n",
       "Mysore Road                                  2\n",
       "KR Puram                                     2\n",
       "Uttarahalli                                  2\n",
       "North Bangalore                              2\n",
       "Langford Town                                2\n",
       "West Bangalore                               2\n",
       "Rajarajeshwari Nagar                         2\n",
       "Nagarbhavi                                   1\n",
       "Central Bangalore                            1\n",
       "Peenya                                       1\n",
       "Kengeri                                      1\n",
       "Koramangala                                  1\n",
       "Yelahanka                                    1\n",
       "\n",
       "[92 rows x 1 columns]"
      ]
     },
     "execution_count": 67,
     "metadata": {},
     "output_type": "execute_result"
    }
   ],
   "source": [
    "y = pd.DataFrame(df.groupby('LOCATION')['RESTAURANT_TYPE'].nunique())\n",
    "y.sort_values('RESTAURANT_TYPE' , ascending = False)"
   ]
  },
  {
   "cell_type": "markdown",
   "metadata": {
    "colab_type": "text",
    "id": "AJRxcbvrA1hZ"
   },
   "source": [
    "---\n",
    "\n",
    "2) The below observation is to analyze the approximate cost of meal per two people against the ratings of the restaurant. Even though the restaurants with highest ratings of 4.9, 4.7 tops the list with high prices, the restaurants with low rating of 1.8 also has high average costs. This clearly shows that RATE might not be the perfect attribute to estimate the approximate cost of meal for two people. "
   ]
  },
  {
   "cell_type": "code",
   "execution_count": 68,
   "metadata": {},
   "outputs": [
    {
     "data": {
      "text/html": [
       "<div>\n",
       "<style scoped>\n",
       "    .dataframe tbody tr th:only-of-type {\n",
       "        vertical-align: middle;\n",
       "    }\n",
       "\n",
       "    .dataframe tbody tr th {\n",
       "        vertical-align: top;\n",
       "    }\n",
       "\n",
       "    .dataframe thead th {\n",
       "        text-align: right;\n",
       "    }\n",
       "</style>\n",
       "<table border=\"1\" class=\"dataframe\">\n",
       "  <thead>\n",
       "    <tr style=\"text-align: right;\">\n",
       "      <th></th>\n",
       "      <th>APPROX_COST(FOR TWO PEOPLE)</th>\n",
       "    </tr>\n",
       "    <tr>\n",
       "      <th>RATE</th>\n",
       "      <th></th>\n",
       "    </tr>\n",
       "  </thead>\n",
       "  <tbody>\n",
       "    <tr>\n",
       "      <th>4.9</th>\n",
       "      <td>1322.222222</td>\n",
       "    </tr>\n",
       "    <tr>\n",
       "      <th>4.7</th>\n",
       "      <td>1295.000000</td>\n",
       "    </tr>\n",
       "    <tr>\n",
       "      <th>1.8</th>\n",
       "      <td>1200.000000</td>\n",
       "    </tr>\n",
       "    <tr>\n",
       "      <th>2.0</th>\n",
       "      <td>1150.000000</td>\n",
       "    </tr>\n",
       "    <tr>\n",
       "      <th>4.6</th>\n",
       "      <td>1147.872340</td>\n",
       "    </tr>\n",
       "    <tr>\n",
       "      <th>4.5</th>\n",
       "      <td>1078.260870</td>\n",
       "    </tr>\n",
       "    <tr>\n",
       "      <th>4.4</th>\n",
       "      <td>1066.244671</td>\n",
       "    </tr>\n",
       "    <tr>\n",
       "      <th>4.3</th>\n",
       "      <td>1053.749585</td>\n",
       "    </tr>\n",
       "    <tr>\n",
       "      <th>4.8</th>\n",
       "      <td>992.307692</td>\n",
       "    </tr>\n",
       "    <tr>\n",
       "      <th>4.2</th>\n",
       "      <td>874.030116</td>\n",
       "    </tr>\n",
       "    <tr>\n",
       "      <th>4.1</th>\n",
       "      <td>743.217054</td>\n",
       "    </tr>\n",
       "    <tr>\n",
       "      <th>2.2</th>\n",
       "      <td>658.333333</td>\n",
       "    </tr>\n",
       "    <tr>\n",
       "      <th>4.0</th>\n",
       "      <td>620.619651</td>\n",
       "    </tr>\n",
       "    <tr>\n",
       "      <th>2.5</th>\n",
       "      <td>601.315714</td>\n",
       "    </tr>\n",
       "    <tr>\n",
       "      <th>2.3</th>\n",
       "      <td>576.923077</td>\n",
       "    </tr>\n",
       "    <tr>\n",
       "      <th>3.9</th>\n",
       "      <td>553.708972</td>\n",
       "    </tr>\n",
       "    <tr>\n",
       "      <th>2.4</th>\n",
       "      <td>539.130435</td>\n",
       "    </tr>\n",
       "    <tr>\n",
       "      <th>2.7</th>\n",
       "      <td>521.444444</td>\n",
       "    </tr>\n",
       "    <tr>\n",
       "      <th>2.6</th>\n",
       "      <td>520.177647</td>\n",
       "    </tr>\n",
       "    <tr>\n",
       "      <th>3.8</th>\n",
       "      <td>490.518371</td>\n",
       "    </tr>\n",
       "    <tr>\n",
       "      <th>2.8</th>\n",
       "      <td>489.234177</td>\n",
       "    </tr>\n",
       "    <tr>\n",
       "      <th>3.0</th>\n",
       "      <td>465.651408</td>\n",
       "    </tr>\n",
       "    <tr>\n",
       "      <th>2.1</th>\n",
       "      <td>462.500000</td>\n",
       "    </tr>\n",
       "    <tr>\n",
       "      <th>2.9</th>\n",
       "      <td>453.097345</td>\n",
       "    </tr>\n",
       "    <tr>\n",
       "      <th>3.7</th>\n",
       "      <td>445.229157</td>\n",
       "    </tr>\n",
       "    <tr>\n",
       "      <th>3.1</th>\n",
       "      <td>423.804792</td>\n",
       "    </tr>\n",
       "    <tr>\n",
       "      <th>3.6</th>\n",
       "      <td>373.876920</td>\n",
       "    </tr>\n",
       "    <tr>\n",
       "      <th>3.5</th>\n",
       "      <td>370.937930</td>\n",
       "    </tr>\n",
       "    <tr>\n",
       "      <th>3.3</th>\n",
       "      <td>369.172201</td>\n",
       "    </tr>\n",
       "    <tr>\n",
       "      <th>3.2</th>\n",
       "      <td>368.174543</td>\n",
       "    </tr>\n",
       "    <tr>\n",
       "      <th>3.4</th>\n",
       "      <td>345.359319</td>\n",
       "    </tr>\n",
       "  </tbody>\n",
       "</table>\n",
       "</div>"
      ],
      "text/plain": [
       "      APPROX_COST(FOR TWO PEOPLE)\n",
       "RATE                             \n",
       "4.9                   1322.222222\n",
       "4.7                   1295.000000\n",
       "1.8                   1200.000000\n",
       "2.0                   1150.000000\n",
       "4.6                   1147.872340\n",
       "4.5                   1078.260870\n",
       "4.4                   1066.244671\n",
       "4.3                   1053.749585\n",
       "4.8                    992.307692\n",
       "4.2                    874.030116\n",
       "4.1                    743.217054\n",
       "2.2                    658.333333\n",
       "4.0                    620.619651\n",
       "2.5                    601.315714\n",
       "2.3                    576.923077\n",
       "3.9                    553.708972\n",
       "2.4                    539.130435\n",
       "2.7                    521.444444\n",
       "2.6                    520.177647\n",
       "3.8                    490.518371\n",
       "2.8                    489.234177\n",
       "3.0                    465.651408\n",
       "2.1                    462.500000\n",
       "2.9                    453.097345\n",
       "3.7                    445.229157\n",
       "3.1                    423.804792\n",
       "3.6                    373.876920\n",
       "3.5                    370.937930\n",
       "3.3                    369.172201\n",
       "3.2                    368.174543\n",
       "3.4                    345.359319"
      ]
     },
     "execution_count": 68,
     "metadata": {},
     "output_type": "execute_result"
    }
   ],
   "source": [
    "y = pd.DataFrame(df.groupby('RATE')['APPROX_COST(FOR TWO PEOPLE)'].mean())\n",
    "y.sort_values('APPROX_COST(FOR TWO PEOPLE)' , ascending = False)"
   ]
  },
  {
   "cell_type": "markdown",
   "metadata": {
    "colab_type": "text",
    "id": "ZRIE_mP7CKxP"
   },
   "source": [
    "---\n",
    "3) The below observation shows the average ratings of the restaurants by their types. "
   ]
  },
  {
   "cell_type": "code",
   "execution_count": 69,
   "metadata": {},
   "outputs": [
    {
     "data": {
      "image/png": "[encoded data removed]",
      "text/plain": [
       "<Figure size 432x288 with 1 Axes>"
      ]
     },
     "metadata": {
      "needs_background": "light"
     },
     "output_type": "display_data"
    }
   ],
   "source": [
    "# plot showing average ratings of restaurants by their types\n",
    "\n",
    "import matplotlib.pyplot as plt\n",
    "\n",
    "y = pd.DataFrame(df.groupby('TYPE_OF_MEAL')['RATE'].mean())\n",
    "\n",
    "performance = [round(y.values[0][0],2), round(y.values[1][0],2), round(y.values[2][0],2), round(y.values[3][0],2),\n",
    "              round(y.values[4][0],2), round(y.values[5][0],2), round(y.values[6][0],2)\n",
    "              ]\n",
    "objects = (y.index[0],y.index[1],y.index[2],y.index[3],y.index[4],y.index[5],y.index[6])\n",
    "y_pos = np.arange(len(objects))\n",
    "bar_width = 0.8\n",
    "\n",
    "plt.barh(y_pos, performance, align='center', alpha=1)\n",
    "plt.yticks(y_pos, objects)\n",
    "plt.xlabel('RATE')\n",
    "plt.title('Ratings by the type of restaurant')\n",
    "\n",
    "plt.show()"
   ]
  },
  {
   "cell_type": "markdown",
   "metadata": {
    "colab_type": "text",
    "id": "pdzOZYU1Cd2l"
   },
   "source": [
    "---\n",
    "4) The below observation shows the average ratings of the restaurants by the type of order. With the below plot, it is observed that restaurants has similar average ratings irrespective of the type of order(Online or not)"
   ]
  },
  {
   "cell_type": "code",
   "execution_count": 70,
   "metadata": {},
   "outputs": [
    {
     "data": {
      "image/png": "[encoded data removed]",
      "text/plain": [
       "<Figure size 432x288 with 1 Axes>"
      ]
     },
     "metadata": {
      "needs_background": "light"
     },
     "output_type": "display_data"
    }
   ],
   "source": [
    "# plot showing average ratings of the restaurants by the type of order\n",
    "\n",
    "import matplotlib.pyplot as plt\n",
    "\n",
    "y=pd.DataFrame(df.groupby('ONLINE_ORDER')['RATE'].mean())\n",
    "yes_rating = (y.values[1])\n",
    "no_rating = (y.values[0])\n",
    "\n",
    "performance = [round(yes_rating[0],2), round(no_rating[0],2)]\n",
    "objects = ('Online Order(YES)', 'Online Order(NO)')\n",
    "y_pos = np.arange(len(objects))\n",
    "\n",
    "plt.bar(y_pos, performance, align='center', alpha=1)\n",
    "plt.xticks(y_pos, objects)\n",
    "plt.ylabel('RATE')\n",
    "plt.title('Ratings by the type of order')\n",
    "\n",
    "plt.show()"
   ]
  },
  {
   "cell_type": "markdown",
   "metadata": {
    "colab_type": "text",
    "id": "7pKpi-AyMqQg"
   },
   "source": [
    "# Neighbourhood with highest average rating\n",
    "\n",
    "Here, the neighbourhood with highest rating is identified. While neighbourhood can be either of the columns, LOCATION and LISTED_IN(CITY), we considered LISTED_IN(CITY) to find out the highest rated neighbourhood. \n",
    "\n",
    "As per the results, 'Brigade Road' is identified as the highest rated locality and the table shows the **characteristics** of that location. The table displays -\n",
    "\n",
    "\n",
    "*   total number of restaurants - 1009\n",
    "*   has 56 unique type of restaurants \n",
    "*  has restaurants that offers both online and offline orders\n",
    "* has restaurants that offers to book table\n",
    "* offers 523 unique type of cuisines \n",
    "* Approximate cost per meal for two people - 708.79 rupees\n",
    "* offers 7 unique type of meals such as buffet, cafes, desserts etc.\n",
    "\n"
   ]
  },
  {
   "cell_type": "code",
   "execution_count": 72,
   "metadata": {
    "colab": {},
    "colab_type": "code",
    "id": "NthQhqvj3ZeF",
    "outputId": "198246e1-1229-48c8-d04b-a85656eeef6f"
   },
   "outputs": [],
   "source": [
    "# find neighborhood with highest rating\n",
    "\n",
    "df['RATE'].groupby(df['LISTED_IN(CITY)'], sort=False).mean().sort_values(ascending=False)\n",
    "br = df.loc[df['LISTED_IN(CITY)'] == 'Brigade Road']"
   ]
  },
  {
   "cell_type": "code",
   "execution_count": 73,
   "metadata": {
    "colab": {},
    "colab_type": "code",
    "id": "vLvZSmXy3ZeI",
    "outputId": "d7fe186b-f676-40fa-b1b1-bffcb8a78e78"
   },
   "outputs": [
    {
     "data": {
      "text/html": [
       "<div>\n",
       "<style scoped>\n",
       "    .dataframe tbody tr th:only-of-type {\n",
       "        vertical-align: middle;\n",
       "    }\n",
       "\n",
       "    .dataframe tbody tr th {\n",
       "        vertical-align: top;\n",
       "    }\n",
       "\n",
       "    .dataframe thead th {\n",
       "        text-align: right;\n",
       "    }\n",
       "</style>\n",
       "<table border=\"1\" class=\"dataframe\">\n",
       "  <thead>\n",
       "    <tr style=\"text-align: right;\">\n",
       "      <th></th>\n",
       "      <th>LOCATION</th>\n",
       "      <th>NO OF RESTAURANTS</th>\n",
       "      <th>RESTAURANT TYPES</th>\n",
       "      <th>ONLINE ORDER</th>\n",
       "      <th>BOOK TABLE</th>\n",
       "      <th>CUISINES</th>\n",
       "      <th>APPROX_COST(FOR TWO PEOPLE)</th>\n",
       "      <th>TYPE OF MEAL</th>\n",
       "    </tr>\n",
       "  </thead>\n",
       "  <tbody>\n",
       "    <tr>\n",
       "      <th>0</th>\n",
       "      <td>Brigade Road</td>\n",
       "      <td>1009</td>\n",
       "      <td>56</td>\n",
       "      <td>2</td>\n",
       "      <td>2</td>\n",
       "      <td>523</td>\n",
       "      <td>708.790882</td>\n",
       "      <td>7</td>\n",
       "    </tr>\n",
       "  </tbody>\n",
       "</table>\n",
       "</div>"
      ],
      "text/plain": [
       "       LOCATION  NO OF RESTAURANTS  RESTAURANT TYPES  ONLINE ORDER  \\\n",
       "0  Brigade Road               1009                56             2   \n",
       "\n",
       "   BOOK TABLE  CUISINES  APPROX_COST(FOR TWO PEOPLE)  TYPE OF MEAL  \n",
       "0           2       523                   708.790882             7  "
      ]
     },
     "execution_count": 73,
     "metadata": {},
     "output_type": "execute_result"
    }
   ],
   "source": [
    "#printing the charecteristics of the highest average neighbourhood (\"Brigade Road\" in this case)\n",
    "\n",
    "d = {'LOCATION':['Brigade Road'],        \n",
    "        'NO OF RESTAURANTS' : len(br.index),\n",
    "        'RESTAURANT TYPES': len(br.RESTAURANT_TYPE.unique()),\n",
    "        'ONLINE ORDER': len(br.ONLINE_ORDER.unique()),\n",
    "        'BOOK TABLE': len(br.BOOK_TABLE.unique()),\n",
    "        'CUISINES': len(br.CUISINES.unique()),\n",
    "        'APPROX_COST(FOR TWO PEOPLE)': br['APPROX_COST(FOR TWO PEOPLE)'].mean(),\n",
    "        'TYPE OF MEAL': len(br.TYPE_OF_MEAL.unique())\n",
    "    }\n",
    "brigade_road = pd.DataFrame(data=d)\n",
    "brigade_road"
   ]
  },
  {
   "cell_type": "markdown",
   "metadata": {
    "colab_type": "text",
    "id": "6Lk_G69h3ZeL"
   },
   "source": [
    "# Task that is being solved\n",
    "\n",
    "The problem that is asked to solve in this assignment is to build a model to forecast the approximate cost of a meal for two people using the attributes location, rating, restaurant type, and cuisine.\n",
    "\n",
    "This problem comes under supervised learning as there is a target to find the approximate cost for two people for a meal and it is a regression problem as we are finding the value of a column which is a continuous value for a given restaurant. This is not a classification problem because the value we are trying to find out is numeric and does not contain any classes to classify."
   ]
  },
  {
   "cell_type": "markdown",
   "metadata": {},
   "source": [
    "---\n",
    "\n",
    "# Models chosen\n",
    "\n",
    "Initially we have tried with various algorithms like Linear Regression, Decision Tree Regressor, Random Forest Regressor and \n",
    "XG Boost on our data. We have chosen the model that performed best on both training and testing data. \n",
    "\n",
    "We have compared the model performances on both training data and testing data and it turns out that random forest regressor best fits the given data in this case comparatively. Random Forest Regressor is an ensemble technique which will build the multiple trees with random samples from training data with random features and takes the weighted voting of all the results from different trees. \n",
    "\n",
    "**NOTE:** We have removed Linear regression because even though it performed very well on training data, it miserably failed to perform on testing data. Hence, we considered other models.\n"
   ]
  },
  {
   "cell_type": "markdown",
   "metadata": {},
   "source": [
    "---\n",
    "\n",
    "# Metrics choosed for evaluation\n",
    "\n",
    "We will use the Mean Absolute Error(MAE) and R2_score metrics for the evaluation of models. \n",
    "\n",
    "In Mean Absolute Error, the error will be calculated as an average of absolute differences between the target values and the predictions. The coefficient of determination or R2 score, is another metric we use to evaluate a model and it is closely related to Mean Squared Error, but has the advantage of being scale-free. The acceptable R2 score is between 0 and 1 and When R2 is negative it means that the model is worse than predicting the mean. While the best R2 score can be 1, if the performance of model is too close to 1, it might indicate that the model is overfitting. In this case, we have to ensure that the model is not overfitting by using any of the machine learning techniques. "
   ]
  },
  {
   "cell_type": "markdown",
   "metadata": {},
   "source": [
    "---\n",
    "\n",
    "# Overfitting - Evaluation metrics - Cross validation\n",
    "\n",
    "Once our model is built, we might not sure if the model will perform well on the new and unseen data or not. To ensure the model's performance on unseen data, we need to do some kind of validation after which we can get to know if the model is underfitting/over fitting/generalizing well. \n",
    "\n",
    "\n",
    "In our case, to make sure our model is not overfitting, we will do sample validation(test-train-split) and K-folds(cross validation with 5-10 folds) by splitting the entire data which separates the test data and train data. We will first check the performance of model on training data and compare with the performance on unseen data. If the model is performing well on new data as well, there are still chances that the model is biased. Therefore, we will perform cross validation with K-folds to make sure the model is not biased.\n",
    " \n"
   ]
  },
  {
   "cell_type": "code",
   "execution_count": 28,
   "metadata": {
    "colab": {},
    "colab_type": "code",
    "id": "YJMzjk-M3ZeL"
   },
   "outputs": [],
   "source": [
    "# import sklearn's train_test_split\n",
    "\n",
    "from sklearn.model_selection import train_test_split"
   ]
  },
  {
   "cell_type": "code",
   "execution_count": 47,
   "metadata": {
    "colab": {},
    "colab_type": "code",
    "id": "vbcqGR1L3ZeN"
   },
   "outputs": [],
   "source": [
    "# scaling numerical columns 'RATE', 'APPROX_COST(FOR TWO PEOPLE)' using MinMaxScaler\n",
    "\n",
    "from sklearn.preprocessing import MinMaxScaler\n",
    "\n",
    "scaler = MinMaxScaler()\n",
    "df[['RATE', 'APPROX_COST(FOR TWO PEOPLE)']] = scaler.fit_transform(df[['RATE', 'APPROX_COST(FOR TWO PEOPLE)']])"
   ]
  },
  {
   "cell_type": "code",
   "execution_count": 55,
   "metadata": {
    "colab": {},
    "colab_type": "code",
    "id": "uvdoPgHL3ZeP"
   },
   "outputs": [],
   "source": [
    "# One Hot Encoding\n",
    "\n",
    "ak = df[['LOCATION','RESTAURANT_TYPE','RATE','CUISINES']]\n",
    "ak_dummies = pd.get_dummies(ak)\n",
    "\n",
    "target = df['APPROX_COST(FOR TWO PEOPLE)']"
   ]
  },
  {
   "cell_type": "code",
   "execution_count": 56,
   "metadata": {
    "colab": {},
    "colab_type": "code",
    "id": "-C2Rbbcl3ZeR"
   },
   "outputs": [],
   "source": [
    "# split data into training and testing sets\n",
    "X_train, X_test, y_train, y_test = train_test_split(ak_dummies, target, test_size=0.2, random_state=42)"
   ]
  },
  {
   "cell_type": "markdown",
   "metadata": {},
   "source": [
    "# Decision Tree Regressor"
   ]
  },
  {
   "cell_type": "code",
   "execution_count": 57,
   "metadata": {
    "colab": {},
    "colab_type": "code",
    "id": "KsNUoDcP3ZeT"
   },
   "outputs": [],
   "source": [
    "# Decision tree regressor\n",
    "\n",
    "from sklearn.tree import DecisionTreeRegressor\n",
    "DT_model = DecisionTreeRegressor().fit(X_train,y_train)\n",
    "\n",
    "y_pred = DT_model.predict(X_test)\n",
    "y_pred_train = DT_model.predict(X_train)"
   ]
  },
  {
   "cell_type": "code",
   "execution_count": 58,
   "metadata": {
    "colab": {},
    "colab_type": "code",
    "id": "hjrR5xwl3ZeW",
    "outputId": "58ff5372-731e-4e2d-fb61-59a81fd541e9"
   },
   "outputs": [
    {
     "name": "stdout",
     "output_type": "stream",
     "text": [
      "Mean Absolute Error:  0.001641261071459825\n",
      "Trainig data validation R2score:  0.9923044622740543\n"
     ]
    }
   ],
   "source": [
    "# Evaluation on training data - Sample validation\n",
    "\n",
    "from sklearn.metrics import mean_squared_error, r2_score, mean_absolute_error, explained_variance_score\n",
    "\n",
    "mae_train_dt = mean_absolute_error(y_train, y_pred_train)\n",
    "r2_train_dt = r2_score(y_train, y_pred_train)\n",
    "\n",
    "print(\"Mean Absolute Error: \", mae_train_dt)\n",
    "print(\"Trainig data validation R2score: \", r2_train_dt)\n"
   ]
  },
  {
   "cell_type": "markdown",
   "metadata": {},
   "source": [
    "**Evaluation:** Decision tree regressor performed very well on training data with an R2 score of 0.99 and MAE of 0.001. "
   ]
  },
  {
   "cell_type": "code",
   "execution_count": 59,
   "metadata": {
    "colab": {},
    "colab_type": "code",
    "id": "01bLMUOX3Zea",
    "outputId": "dee5f123-8afd-48f5-e5ef-90d63b6fa23d"
   },
   "outputs": [
    {
     "name": "stdout",
     "output_type": "stream",
     "text": [
      "Mean Absolute Error:  0.023913620641889833\n",
      "Sample validation R2score:  0.5515857844970184\n"
     ]
    }
   ],
   "source": [
    "# Evaluation on testing data - Sample validation\n",
    "\n",
    "mae_test_dt =  mean_absolute_error(y_test, y_pred)\n",
    "r2_test_dt = r2_score(y_test, y_pred)\n",
    "\n",
    "print(\"Mean Absolute Error: \", mae_test_dt)\n",
    "print(\"Sample validation R2score: \", r2_test_dt)\n"
   ]
  },
  {
   "cell_type": "code",
   "execution_count": 60,
   "metadata": {
    "colab": {},
    "colab_type": "code",
    "id": "pmHwk6GM3Zed",
    "outputId": "b16504aa-76d8-4a04-a8c5-c3b701ef0173"
   },
   "outputs": [
    {
     "name": "stdout",
     "output_type": "stream",
     "text": [
      "Cross validation score:  0.6030019035553561\n"
     ]
    }
   ],
   "source": [
    "# Evaluation - Cross validation\n",
    "\n",
    "from sklearn.model_selection import cross_val_score\n",
    "CV_DT = cross_val_score(DT_model, ak_dummies, target, cv=5)\n",
    "print(\"Cross validation score: \", CV_DT.mean())"
   ]
  },
  {
   "cell_type": "markdown",
   "metadata": {},
   "source": [
    "**Evaluation:** Decision tree regressor performed considerably low compared with training data. Even though sample validation performed with a score of 0.55, cross validation score comes out to be 0.60 on 5-folds. Below are the plots that shows the performance on training and testing data as well as sample and cross validation by their R2 scores."
   ]
  },
  {
   "cell_type": "code",
   "execution_count": 63,
   "metadata": {
    "colab": {},
    "colab_type": "code",
    "id": "W6pGBDb03Zeg",
    "outputId": "134e501a-0b58-4709-cd44-122a8a1994d5"
   },
   "outputs": [
    {
     "data": {
      "image/png": "[encoded data removed]",
      "text/plain": [
       "<Figure size 432x288 with 1 Axes>"
      ]
     },
     "metadata": {
      "needs_background": "light"
     },
     "output_type": "display_data"
    }
   ],
   "source": [
    "# plot showing R2 score of decision tree performance on training data and testing data(sample validation)\n",
    "\n",
    "import matplotlib.pyplot as plt\n",
    "\n",
    "performance = [r2_train_dt,r2_test_dt]\n",
    "objects = ('Training data', 'Testing data')\n",
    "y_pos = np.arange(len(objects))\n",
    "\n",
    "plt.bar(y_pos, performance, align='center', alpha=0.5)\n",
    "plt.xticks(y_pos, objects)\n",
    "plt.ylabel('R2 Score')\n",
    "plt.title('Decision Tree Regressor')\n",
    "\n",
    "plt.show()"
   ]
  },
  {
   "cell_type": "code",
   "execution_count": 62,
   "metadata": {
    "colab": {},
    "colab_type": "code",
    "id": "F2JST5-M3Zej",
    "outputId": "3a96b9a7-7dcd-473d-983a-c6353e1d6de1"
   },
   "outputs": [
    {
     "data": {
      "image/png": "[encoded data removed]",
      "text/plain": [
       "<Figure size 432x288 with 1 Axes>"
      ]
     },
     "metadata": {
      "needs_background": "light"
     },
     "output_type": "display_data"
    }
   ],
   "source": [
    "# plot showing R2 score of Decision tree performance by sample vaidation and cross validation\n",
    "\n",
    "import matplotlib.pyplot as plt\n",
    "\n",
    "performance = [r2_test_dt, CV_DT.mean()]\n",
    "objects = ('Sample validation', 'Cross validation')\n",
    "y_pos = np.arange(len(objects))\n",
    "\n",
    "plt.bar(y_pos, performance, align='center', alpha=0.5)\n",
    "plt.xticks(y_pos, objects)\n",
    "plt.ylabel('R2 score')\n",
    "plt.title('Decision Tree Regressor')\n",
    "\n",
    "plt.show()"
   ]
  },
  {
   "cell_type": "markdown",
   "metadata": {},
   "source": [
    "# Random Forest Regressor"
   ]
  },
  {
   "cell_type": "code",
   "execution_count": 66,
   "metadata": {
    "colab": {},
    "colab_type": "code",
    "id": "SYG8L7s93Zen"
   },
   "outputs": [],
   "source": [
    "# Random Forest regressor\n",
    "\n",
    "from sklearn.ensemble import RandomForestRegressor\n",
    "rf = RandomForestRegressor(n_estimators = 50, random_state = 21) \n",
    "rf.fit(X_train,y_train)\n",
    "\n",
    "y_pred = rf.predict(X_test)\n",
    "y_pred_train = rf.predict(X_train)"
   ]
  },
  {
   "cell_type": "code",
   "execution_count": 67,
   "metadata": {
    "colab": {},
    "colab_type": "code",
    "id": "avXhGRSD3Zeq",
    "outputId": "d7a799a1-2b46-4339-ecbb-01199383d19b"
   },
   "outputs": [
    {
     "name": "stdout",
     "output_type": "stream",
     "text": [
      "Mean Absolute Error:  0.00856043220599418\n",
      "R2score:  0.9560452129842337\n"
     ]
    }
   ],
   "source": [
    "# Evaluation on training data - Sample validation\n",
    "\n",
    "from sklearn.metrics import mean_squared_error, r2_score, mean_absolute_error, explained_variance_score\n",
    "\n",
    "mae_train_rf = mean_absolute_error(y_train, y_pred_train)\n",
    "r2_train_rf = r2_score(y_train, y_pred_train)\n",
    "\n",
    "print(\"Mean Absolute Error: \", mae_train_rf)\n",
    "print(\"R2score: \", r2_train_rf)"
   ]
  },
  {
   "cell_type": "markdown",
   "metadata": {},
   "source": [
    "**Evaluation:** Random Forest Regressor performed very well on training data with an R2 score of 0.95 and MAE of 0.001. "
   ]
  },
  {
   "cell_type": "code",
   "execution_count": 68,
   "metadata": {
    "colab": {},
    "colab_type": "code",
    "id": "874r3cMp3Zey",
    "outputId": "74b14588-07e7-4578-99b2-5c285d51e034"
   },
   "outputs": [
    {
     "name": "stdout",
     "output_type": "stream",
     "text": [
      "Mean Absolute Error:  0.02090131004157761\n",
      "R2score:  0.6887683640271731\n"
     ]
    }
   ],
   "source": [
    "# Evaluation on testing data - Sample validation\n",
    "\n",
    "mae_test_rf =  mean_absolute_error(y_test, y_pred)\n",
    "r2_test_rf = r2_score(y_test, y_pred)\n",
    "\n",
    "print(\"Mean Absolute Error: \", mae_test_rf)\n",
    "print(\"R2score: \", r2_test_rf)\n"
   ]
  },
  {
   "cell_type": "code",
   "execution_count": 69,
   "metadata": {
    "colab": {},
    "colab_type": "code",
    "id": "nn7DfVe93Ze2",
    "outputId": "1bc177f9-c70a-44ba-d510-fe64a5299490"
   },
   "outputs": [
    {
     "name": "stdout",
     "output_type": "stream",
     "text": [
      "Cross validation score:  0.7016514889814323\n"
     ]
    }
   ],
   "source": [
    "# Evaluation - Cross validation\n",
    "\n",
    "from sklearn.model_selection import cross_val_score\n",
    "CV_rf = cross_val_score(rf, ak_dummies, target, cv=5)\n",
    "print(\"Cross validation score: \", CV_rf.mean())"
   ]
  },
  {
   "cell_type": "markdown",
   "metadata": {},
   "source": [
    "**Evaluation:** Random Forest regressor performed slightly low compared with training data. Even though sample validation performed with a score of 0.68, cross validation score comes out to be 0.70 on 5-folds. Random Forest performed with a decent R2 score of 0.70. Below are the plots that shows the performance on training and testing data as well as sample and cross validation by their R2 scores."
   ]
  },
  {
   "cell_type": "code",
   "execution_count": 70,
   "metadata": {
    "colab": {},
    "colab_type": "code",
    "id": "IDLSy_JU3Ze4",
    "outputId": "b5204ce9-4965-4c21-d6f1-75160fc0323b"
   },
   "outputs": [
    {
     "data": {
      "image/png": "[encoded data removed]",
      "text/plain": [
       "<Figure size 432x288 with 1 Axes>"
      ]
     },
     "metadata": {
      "needs_background": "light"
     },
     "output_type": "display_data"
    }
   ],
   "source": [
    "# plot showing R2 score of Random Forest regressor performance on training data and testing data\n",
    "\n",
    "import matplotlib.pyplot as plt\n",
    "\n",
    "performance = [r2_train_rf,r2_test_rf]\n",
    "objects = ('Training data', 'Testing data')\n",
    "y_pos = np.arange(len(objects))\n",
    "\n",
    "plt.bar(y_pos, performance, align='center', alpha=0.5)\n",
    "plt.xticks(y_pos, objects)\n",
    "plt.ylabel('R2 Score')\n",
    "plt.title('Random Forest Regressor')\n",
    "\n",
    "plt.show()"
   ]
  },
  {
   "cell_type": "code",
   "execution_count": 71,
   "metadata": {
    "colab": {},
    "colab_type": "code",
    "id": "5a3RmLtT3Ze6",
    "outputId": "1e43f4a4-8ba4-4dc4-c9d1-5d5a6795eb1f"
   },
   "outputs": [
    {
     "data": {
      "image/png": "[encoded data removed]",
      "text/plain": [
       "<Figure size 432x288 with 1 Axes>"
      ]
     },
     "metadata": {
      "needs_background": "light"
     },
     "output_type": "display_data"
    }
   ],
   "source": [
    "# plot showing R2 score of Random Forest performance by sample vaidation and cross validation\n",
    "\n",
    "import matplotlib.pyplot as plt\n",
    "\n",
    "performance = [r2_test_rf, CV_rf.mean()]\n",
    "objects = ('Sample validation', 'Cross validation')\n",
    "y_pos = np.arange(len(objects))\n",
    "\n",
    "plt.bar(y_pos, performance, align='center', alpha=0.5)\n",
    "plt.xticks(y_pos, objects)\n",
    "plt.ylabel('R2 score')\n",
    "plt.title('Random Forest Regressor')\n",
    "\n",
    "plt.show()"
   ]
  },
  {
   "cell_type": "markdown",
   "metadata": {},
   "source": [
    "# XG Boost Regressor"
   ]
  },
  {
   "cell_type": "code",
   "execution_count": 73,
   "metadata": {
    "colab": {},
    "colab_type": "code",
    "id": "7ahwEUsY3ZfV",
    "outputId": "30ea8175-d94e-4925-e4a4-23f058c10bc1"
   },
   "outputs": [
    {
     "name": "stdout",
     "output_type": "stream",
     "text": [
      "Collecting xgboost\n",
      "  Downloading https://files.pythonhosted.org/packages/5e/49/b95c037b717b4ceadc76b6e164603471225c27052d1611d5a2e832757945/xgboost-0.90-py2.py3-none-win_amd64.whl (18.3MB)\n",
      "Requirement already satisfied: numpy in c:\\users\\manju\\anaconda3\\lib\\site-packages (from xgboost) (1.16.2)\n",
      "Requirement already satisfied: scipy in c:\\users\\manju\\anaconda3\\lib\\site-packages (from xgboost) (1.2.1)\n",
      "Installing collected packages: xgboost\n",
      "Successfully installed xgboost-0.90\n",
      "Note: you may need to restart the kernel to use updated packages.\n"
     ]
    }
   ],
   "source": [
    "pip install xgboost"
   ]
  },
  {
   "cell_type": "code",
   "execution_count": 74,
   "metadata": {
    "colab": {},
    "colab_type": "code",
    "id": "zc5pO66q3ZfY"
   },
   "outputs": [],
   "source": [
    "#from xgboost.sklearn import XGBRegressor\n",
    "\n",
    "import xgboost as xgb\n",
    "xg_reg = xgb.XGBRegressor(objective ='reg:linear', n_estimators = 50)"
   ]
  },
  {
   "cell_type": "code",
   "execution_count": 75,
   "metadata": {
    "colab": {},
    "colab_type": "code",
    "id": "xiP16wcl3ZfZ",
    "outputId": "af7a2e61-da53-4621-aa67-f7faf69b19e4"
   },
   "outputs": [
    {
     "name": "stderr",
     "output_type": "stream",
     "text": [
      "C:\\Users\\Manju\\Anaconda3\\lib\\site-packages\\xgboost\\core.py:587: FutureWarning: Series.base is deprecated and will be removed in a future version\n",
      "  if getattr(data, 'base', None) is not None and \\\n"
     ]
    },
    {
     "name": "stdout",
     "output_type": "stream",
     "text": [
      "[21:27:20] WARNING: C:/Jenkins/workspace/xgboost-win64_release_0.90/src/objective/regression_obj.cu:152: reg:linear is now deprecated in favor of reg:squarederror.\n"
     ]
    },
    {
     "data": {
      "text/plain": [
       "XGBRegressor(base_score=0.5, booster='gbtree', colsample_bylevel=1,\n",
       "       colsample_bynode=1, colsample_bytree=1, gamma=0,\n",
       "       importance_type='gain', learning_rate=0.1, max_delta_step=0,\n",
       "       max_depth=3, min_child_weight=1, missing=None, n_estimators=50,\n",
       "       n_jobs=1, nthread=None, objective='reg:linear', random_state=0,\n",
       "       reg_alpha=0, reg_lambda=1, scale_pos_weight=1, seed=None,\n",
       "       silent=None, subsample=1, verbosity=1)"
      ]
     },
     "execution_count": 75,
     "metadata": {},
     "output_type": "execute_result"
    }
   ],
   "source": [
    "xg_reg.fit(X_train,y_train)"
   ]
  },
  {
   "cell_type": "code",
   "execution_count": 76,
   "metadata": {
    "colab": {},
    "colab_type": "code",
    "id": "DhRW425t3Zfd",
    "outputId": "0d8d941b-4f6f-4801-84fe-04f073a87b00"
   },
   "outputs": [
    {
     "name": "stdout",
     "output_type": "stream",
     "text": [
      "0.6801519669782252\n"
     ]
    }
   ],
   "source": [
    "# Evaluation of performance of XG Boost on training data\n",
    "\n",
    "preds_train = xg_reg.predict(X_train)\n",
    "r2_train_xg= r2_score(y_train, preds_train)\n",
    "print(r2_train_xg)"
   ]
  },
  {
   "cell_type": "markdown",
   "metadata": {},
   "source": [
    "**Evaluation:** XG Boost performed low on training data with R2 score of 0.68. Clearly it is under performing compared with the other models tried above."
   ]
  },
  {
   "cell_type": "code",
   "execution_count": 77,
   "metadata": {
    "colab": {},
    "colab_type": "code",
    "id": "bL1sVPF03Zfb",
    "outputId": "8186612e-ec0d-43f2-eea8-6f1bd140c7fc"
   },
   "outputs": [
    {
     "name": "stdout",
     "output_type": "stream",
     "text": [
      "0.612493365699669\n"
     ]
    }
   ],
   "source": [
    "# Evaluation of performance of XG Boost on testing data\n",
    "\n",
    "preds = xg_reg.predict(X_test)\n",
    "r2_test_xg = r2_score(y_test, preds)\n",
    "print(r2_test_xg)"
   ]
  },
  {
   "cell_type": "code",
   "execution_count": 79,
   "metadata": {
    "colab": {},
    "colab_type": "code",
    "id": "VzFgi_P93Zff",
    "outputId": "2fe69ef3-fe23-4fcc-f616-b233b20a10dd"
   },
   "outputs": [
    {
     "name": "stdout",
     "output_type": "stream",
     "text": [
      "[21:28:50] WARNING: C:/Jenkins/workspace/xgboost-win64_release_0.90/src/objective/regression_obj.cu:152: reg:linear is now deprecated in favor of reg:squarederror.\n"
     ]
    },
    {
     "name": "stderr",
     "output_type": "stream",
     "text": [
      "C:\\Users\\Manju\\Anaconda3\\lib\\site-packages\\xgboost\\core.py:587: FutureWarning: Series.base is deprecated and will be removed in a future version\n",
      "  if getattr(data, 'base', None) is not None and \\\n"
     ]
    },
    {
     "name": "stdout",
     "output_type": "stream",
     "text": [
      "[21:29:46] WARNING: C:/Jenkins/workspace/xgboost-win64_release_0.90/src/objective/regression_obj.cu:152: reg:linear is now deprecated in favor of reg:squarederror.\n"
     ]
    },
    {
     "name": "stderr",
     "output_type": "stream",
     "text": [
      "C:\\Users\\Manju\\Anaconda3\\lib\\site-packages\\xgboost\\core.py:587: FutureWarning: Series.base is deprecated and will be removed in a future version\n",
      "  if getattr(data, 'base', None) is not None and \\\n"
     ]
    },
    {
     "name": "stdout",
     "output_type": "stream",
     "text": [
      "[21:30:33] WARNING: C:/Jenkins/workspace/xgboost-win64_release_0.90/src/objective/regression_obj.cu:152: reg:linear is now deprecated in favor of reg:squarederror.\n"
     ]
    },
    {
     "name": "stderr",
     "output_type": "stream",
     "text": [
      "C:\\Users\\Manju\\Anaconda3\\lib\\site-packages\\xgboost\\core.py:587: FutureWarning: Series.base is deprecated and will be removed in a future version\n",
      "  if getattr(data, 'base', None) is not None and \\\n"
     ]
    },
    {
     "name": "stdout",
     "output_type": "stream",
     "text": [
      "[21:31:18] WARNING: C:/Jenkins/workspace/xgboost-win64_release_0.90/src/objective/regression_obj.cu:152: reg:linear is now deprecated in favor of reg:squarederror.\n"
     ]
    },
    {
     "name": "stderr",
     "output_type": "stream",
     "text": [
      "C:\\Users\\Manju\\Anaconda3\\lib\\site-packages\\xgboost\\core.py:587: FutureWarning: Series.base is deprecated and will be removed in a future version\n",
      "  if getattr(data, 'base', None) is not None and \\\n"
     ]
    },
    {
     "name": "stdout",
     "output_type": "stream",
     "text": [
      "[21:32:04] WARNING: C:/Jenkins/workspace/xgboost-win64_release_0.90/src/objective/regression_obj.cu:152: reg:linear is now deprecated in favor of reg:squarederror.\n",
      "Cross validation score:  0.6128706892812803\n"
     ]
    }
   ],
   "source": [
    "# Cross validation with 5-folds\n",
    "\n",
    "scoresB_xg = cross_val_score(xg_reg, ak_dummies, target, cv=5)\n",
    "print(\"Cross validation score: \", scoresB_xg.mean())"
   ]
  },
  {
   "cell_type": "markdown",
   "metadata": {},
   "source": [
    "**Evaluation:** XG Boost is performing almost similar to the training data with a cross validation score of 0.61"
   ]
  },
  {
   "cell_type": "code",
   "execution_count": 80,
   "metadata": {
    "colab": {},
    "colab_type": "code",
    "id": "IDLSy_JU3Ze4",
    "outputId": "b5204ce9-4965-4c21-d6f1-75160fc0323b"
   },
   "outputs": [
    {
     "data": {
      "image/png": "[encoded data removed]",
      "text/plain": [
       "<Figure size 432x288 with 1 Axes>"
      ]
     },
     "metadata": {
      "needs_background": "light"
     },
     "output_type": "display_data"
    }
   ],
   "source": [
    "# plot showing R2 score of XG Boost regressor performance on training data and testing data\n",
    "\n",
    "import matplotlib.pyplot as plt\n",
    "\n",
    "performance = [r2_train_xg,r2_test_xg]\n",
    "objects = ('Training data', 'Testing data')\n",
    "y_pos = np.arange(len(objects))\n",
    "\n",
    "plt.bar(y_pos, performance, align='center', alpha=0.5)\n",
    "plt.xticks(y_pos, objects)\n",
    "plt.ylabel('R2 Score')\n",
    "plt.title('XG Boost Regressor')\n",
    "\n",
    "plt.show()"
   ]
  },
  {
   "cell_type": "code",
   "execution_count": 81,
   "metadata": {
    "colab": {},
    "colab_type": "code",
    "id": "5a3RmLtT3Ze6",
    "outputId": "1e43f4a4-8ba4-4dc4-c9d1-5d5a6795eb1f"
   },
   "outputs": [
    {
     "data": {
      "image/png": "[encoded data removed]",
      "text/plain": [
       "<Figure size 432x288 with 1 Axes>"
      ]
     },
     "metadata": {
      "needs_background": "light"
     },
     "output_type": "display_data"
    }
   ],
   "source": [
    "# plot showing R2 score of XG Boost regressor performance by sample vaidation and cross validation\n",
    "\n",
    "import matplotlib.pyplot as plt\n",
    "\n",
    "performance = [r2_test_xg, scoresB_xg.mean()]\n",
    "objects = ('Sample validation', 'Cross validation')\n",
    "y_pos = np.arange(len(objects))\n",
    "\n",
    "plt.bar(y_pos, performance, align='center', alpha=0.5)\n",
    "plt.xticks(y_pos, objects)\n",
    "plt.ylabel('R2 score')\n",
    "plt.title('XG Boost Regressor')\n",
    "\n",
    "plt.show()"
   ]
  },
  {
   "cell_type": "markdown",
   "metadata": {},
   "source": [
    "# Comparision of performances of models\n",
    "\n",
    "Based on the below comparision, as Random Forest Regressor performs better compared with other two models, we have chosen this model as the final model. This Random Forest Regressor gives the R2 score of 0.701 with cross validation approach of 5-folds."
   ]
  },
  {
   "cell_type": "code",
   "execution_count": 82,
   "metadata": {
    "colab": {},
    "colab_type": "code",
    "id": "1_z_AOEI3ZfS",
    "outputId": "579043f8-34be-44b3-a8a7-d94d96af62a1"
   },
   "outputs": [
    {
     "data": {
      "image/png": "[encoded data removed]",
      "text/plain": [
       "<Figure size 432x288 with 1 Axes>"
      ]
     },
     "metadata": {
      "needs_background": "light"
     },
     "output_type": "display_data"
    }
   ],
   "source": [
    "import matplotlib.pyplot as plt\n",
    "\n",
    "# data to plot\n",
    "n_groups = 5\n",
    "score_training = (r2_train_dt, r2_train_rf, r2_train_xg)\n",
    "score_test = (r2_test_dt, r2_test_rf, r2_test_xg)\n",
    "\n",
    "# create plot\n",
    "fig, ax = plt.subplots()\n",
    "index = np.arange(n_groups)\n",
    "bar_width = 0.15\n",
    "opacity = 0.8\n",
    "\n",
    "rects1 = plt.bar(index, score_training, bar_width,\n",
    "alpha=opacity,\n",
    "color='b',\n",
    "label='Training data')\n",
    "\n",
    "rects2 = plt.bar(index + bar_width, score_test, bar_width,\n",
    "alpha=opacity,\n",
    "color='g',\n",
    "label='Testing data')\n",
    "\n",
    "plt.xlabel('Model')\n",
    "plt.ylabel('R2 score')\n",
    "plt.title('R2 Scores by Decision Tree, Random Forest, XG Boost Regressors')\n",
    "plt.xticks(index + bar_width, ('Decision Tree', 'Random Forest', 'XG Boost'))\n",
    "plt.legend()\n",
    "\n",
    "plt.tight_layout()\n",
    "plt.show()"
   ]
  },
  {
   "cell_type": "markdown",
   "metadata": {},
   "source": [
    "# Grid Search - Hyper parameter tuning the model to perform better\n",
    "\n",
    "\n",
    "Hyper Parameter tuning means tuning the characteristics of the model that are internal and explicit to the model which cannot be estimated from the data. These parameters has to be set before fitting the model to the data. Grid Search approach helps us to find the optimal values for hyper parameters that provides best accurate results. Since, out of all the models we tried on the data, Random Forest regressor performed better, we are trying to tune the Random Forest Regressor to improve the model performance. Below is the approach tried with Grid Search with various values of n_estimators and random_state."
   ]
  },
  {
   "cell_type": "code",
   "execution_count": 85,
   "metadata": {
    "colab": {},
    "colab_type": "code",
    "id": "ncY4zaag3Zfo"
   },
   "outputs": [],
   "source": [
    "# Create the parameter grid based on the results of random search \n",
    "from sklearn.model_selection import GridSearchCV\n",
    "param_grid = {\n",
    "    'n_estimators':[250, 200],\n",
    "    'random_state':[42,52]\n",
    "}\n",
    "# Create a based model\n",
    "rf = RandomForestRegressor()\n",
    "# Instantiate the grid search model\n",
    "grid_search = GridSearchCV(estimator = rf, param_grid = param_grid, \n",
    "                          cv = 3, n_jobs = -1, verbose = 2)"
   ]
  },
  {
   "cell_type": "code",
   "execution_count": 86,
   "metadata": {},
   "outputs": [
    {
     "name": "stdout",
     "output_type": "stream",
     "text": [
      "Fitting 3 folds for each of 4 candidates, totalling 12 fits\n"
     ]
    },
    {
     "name": "stderr",
     "output_type": "stream",
     "text": [
      "[Parallel(n_jobs=-1)]: Using backend LokyBackend with 8 concurrent workers.\n",
      "[Parallel(n_jobs=-1)]: Done   4 out of  12 | elapsed:  8.2min remaining: 16.4min\n",
      "[Parallel(n_jobs=-1)]: Done  12 out of  12 | elapsed: 13.2min finished\n"
     ]
    },
    {
     "data": {
      "text/plain": [
       "GridSearchCV(cv=3, error_score='raise-deprecating',\n",
       "       estimator=RandomForestRegressor(bootstrap=True, criterion='mse', max_depth=None,\n",
       "           max_features='auto', max_leaf_nodes=None,\n",
       "           min_impurity_decrease=0.0, min_impurity_split=None,\n",
       "           min_samples_leaf=1, min_samples_split=2,\n",
       "           min_weight_fraction_leaf=0.0, n_estimators='warn', n_jobs=None,\n",
       "           oob_score=False, random_state=None, verbose=0, warm_start=False),\n",
       "       fit_params=None, iid='warn', n_jobs=-1,\n",
       "       param_grid={'n_estimators': [250, 200], 'random_state': [42, 52]},\n",
       "       pre_dispatch='2*n_jobs', refit=True, return_train_score='warn',\n",
       "       scoring=None, verbose=2)"
      ]
     },
     "execution_count": 86,
     "metadata": {},
     "output_type": "execute_result"
    }
   ],
   "source": [
    "grid_search.fit(X_train, y_train)    "
   ]
  },
  {
   "cell_type": "code",
   "execution_count": 87,
   "metadata": {},
   "outputs": [
    {
     "data": {
      "text/plain": [
       "{'n_estimators': 200, 'random_state': 52}"
      ]
     },
     "execution_count": 87,
     "metadata": {},
     "output_type": "execute_result"
    }
   ],
   "source": [
    "# best pair of parameters provided by grid search\n",
    "\n",
    "grid_search.best_params_"
   ]
  },
  {
   "cell_type": "code",
   "execution_count": 84,
   "metadata": {},
   "outputs": [
    {
     "data": {
      "text/plain": [
       "0.7265312384567382"
      ]
     },
     "execution_count": 84,
     "metadata": {},
     "output_type": "execute_result"
    }
   ],
   "source": [
    "# Best score provided by Grid Search\n",
    "\n",
    "grid_search.best_score_ "
   ]
  },
  {
   "cell_type": "markdown",
   "metadata": {},
   "source": [
    "**Evaluation:** After performing Grid Search for tuning the Hyper parameters of the Random Forest Regressor, the above results of best_params_ attribute shows the best hyper parameters that suggests the values for n_estimators and random_state that improves the accuracy and performance of the model. \n",
    "\n",
    "The attribute \"best_score_\" of the grid search provides the mean cross-validated score(R2 score) of the best_estimator. Here, we have got the cross validated score of 0.726 which clearly shows an improvement of 2% compared to the Random Forest Regressor performed before Grid Search. \n",
    "\n",
    "Before performing the Grid Search, our Random Forest Regressor was using n_estimators of 50 and random_state of 21. Whereas, Grid search provides the best values of these parameters as 200 for n_estimators and 52 for random_state. This is the reason why our model has improved its performance.\n",
    "\n",
    "Thus, Grid Search helped us in improving the performance of the model by 2%."
   ]
  },
  {
   "cell_type": "markdown",
   "metadata": {},
   "source": [
    "# Relief Feature Selection\n",
    "\n",
    "Relief Based Algorithms are helpful in feature selection with supervised learning. These algorithms offer computationally efficient ways of feature selection without performing exhaustive search of parameters and evaluating pair wise performances unliked currently avaiable filter based feature selection techniques. This approach gives score for each feature and by sorting the features by their ranks, it provides top features that best provides the performance.\n",
    "\n",
    "We have tried Relief feature selection approach \"ReliefF\" but we could not get the expected results."
   ]
  },
  {
   "cell_type": "code",
   "execution_count": 0,
   "metadata": {
    "colab": {},
    "colab_type": "code",
    "id": "29Pw9B_A3Zfh",
    "outputId": "8496a158-34d4-403c-b736-9204068a9272",
    "scrolled": true
   },
   "outputs": [
    {
     "name": "stdout",
     "output_type": "stream",
     "text": [
      "Collecting skrebate==0.6\n",
      "  Downloading https://files.pythonhosted.org/packages/7d/01/764fdd40b0e9f01624725c3cf1ffa00071fabb66b62d39fc2c28b34f3edb/skrebate-0.6.tar.gz\n",
      "Requirement already satisfied: numpy in /anaconda3/lib/python3.7/site-packages (from skrebate==0.6) (1.16.2)\n",
      "Requirement already satisfied: scipy in /anaconda3/lib/python3.7/site-packages (from skrebate==0.6) (1.2.1)\n",
      "Requirement already satisfied: scikit-learn in /anaconda3/lib/python3.7/site-packages (from skrebate==0.6) (0.20.3)\n",
      "Building wheels for collected packages: skrebate\n",
      "  Building wheel for skrebate (setup.py) ... \u001b[?25ldone\n",
      "\u001b[?25h  Stored in directory: /Users/akshayreddypoturi/Library/Caches/pip/wheels/f5/99/36/c827bcfa6852c6d068895b2723c57cea84f93642270c6dc05c\n",
      "Successfully built skrebate\n",
      "Installing collected packages: skrebate\n",
      "Successfully installed skrebate-0.6\n",
      "Note: you may need to restart the kernel to use updated packages.\n"
     ]
    }
   ],
   "source": [
    "pip install skrebate==0.6"
   ]
  },
  {
   "cell_type": "code",
   "execution_count": 0,
   "metadata": {
    "colab": {},
    "colab_type": "code",
    "id": "4pxx1TGJ3Zfj"
   },
   "outputs": [],
   "source": [
    "from skrebate import ReliefF\n",
    "from sklearn.pipeline import make_pipeline\n"
   ]
  },
  {
   "cell_type": "code",
   "execution_count": 0,
   "metadata": {
    "colab": {},
    "colab_type": "code",
    "id": "oUke5VJT3Zfl"
   },
   "outputs": [],
   "source": [
    "rlf = make_pipeline(ReliefF(n_features_to_select=2, n_neighbors=100),\n",
    "                    RandomForestRegressor(n_estimators=100))\n",
    "\n"
   ]
  },
  {
   "cell_type": "code",
   "execution_count": null,
   "metadata": {
    "colab": {},
    "colab_type": "code",
    "id": "98ME5fiw3Zfm",
    "outputId": "efc3c57c-8fea-4671-9141-70c93e514315"
   },
   "outputs": [],
   "source": [
    "#print(cross_val_score(clf, ak_dummies, target).mean())\n",
    "\n",
    "from sklearn.model_selection import cross_val_score\n",
    "CV_rlf = cross_val_score(rlf, ak_dummies, target, cv=10)\n",
    "print(\"Cross validation score: \", CV_rlf.mean())"
   ]
  },
  {
   "cell_type": "markdown",
   "metadata": {},
   "source": [
    "# References\n",
    "\n",
    "* [1] “Group By: split-apply-combine¶,” Group By: split-apply-combine - pandas 0.24.2 documentation. [Online]. Available: http://pandas.pydata.org/pandas-docs/stable/user_guide/groupby.html. [Accessed: 03-Jul-2019].\n",
    "\n",
    "* [2] “Matplotlib Bar chart,” pythonspot, 28-Jul-2016. [Online]. Available: https://pythonspot.com/matplotlib-bar-chart/. [Accessed: 03-Jul-2019].\n",
    "\n",
    "* [3] /@krishnihw, “A Beginners Guide to Random Forest Regression - Data Driven Investor,” Medium, 05-Jun-2019. [Online]. Available: https://medium.com/datadriveninvestor/random-forest-regression-9871bc9a25eb. [Accessed: 03-Jul-2019].\n",
    "\n",
    "* [4] /@williamkoehrsen, “Hyperparameter Tuning the Random Forest in Python - Towards Data Science,” Medium, 10-Jan-2018. [Online]. Available: https://towardsdatascience.com/hyperparameter-tuning-the-random-forest-in-python-using-scikit-learn-28d2aa77dd74. [Accessed: 03-Jul-2019].\n",
    "\n",
    "* [5] “sklearn.model_selection.GridSearchCV¶,” scikit. [Online]. Available: https://scikit-learn.org/stable/modules/generated/sklearn.model_selection.GridSearchCV.html. [Accessed: 03-Jul-2019].\n",
    "\n",
    "* [6] “pandas.DataFrame¶,” pandas.DataFrame - pandas 0.24.2 documentation. [Online]. Available: https://pandas.pydata.org/pandas-docs/stable/reference/api/pandas.DataFrame.html. [Accessed: 03-Jul-2019].\n",
    "\n",
    "* [7] A. Bronshtein and A. Bronshtein, “Train/Test Split and Cross Validation in Python,” Towards Data Science, 17-May-2017. [Online]. Available: https://towardsdatascience.com/train-test-split-and-cross-validation-in-python-80b61beca4b6. [Accessed: 03-Jul-2019].\n",
    "\n",
    "* [8] EpistasisLab, “EpistasisLab/scikit-rebate,” GitHub, 23-May-2018. [Online]. Available: https://github.com/EpistasisLab/scikit-rebate. [Accessed: 03-Jul-2019].\n",
    "\n",
    "* [9] C. Albon, “Delete Duplicates In pandas,” Chris Albon, 20-Dec-2017. [Online]. Available: https://chrisalbon.com/python/data_wrangling/pandas_delete_duplicates/. [Accessed: 03-Jul-2019].\n",
    "\n",
    "* [10] /@aswalin, “Choosing the Right Metric for Evaluating Machine Learning Models - Part 1,” Medium, 10-Jul-2018. [Online]. Available: https://medium.com/usf-msds/choosing-the-right-metric-for-machine-learning-models-part-1-a99d7d7414e4. [Accessed: 03-Jul-2019]."
   ]
  },
  {
   "cell_type": "code",
   "execution_count": null,
   "metadata": {},
   "outputs": [],
   "source": []
  }
 ],
 "metadata": {
  "colab": {
   "name": "Assign1_v5_ak.ipynb",
   "provenance": [],
   "version": "0.3.2"
  },
  "kernelspec": {
   "display_name": "Python 3",
   "language": "python",
   "name": "python3"
  },
  "language_info": {
   "codemirror_mode": {
    "name": "ipython",
    "version": 3
   },
   "file_extension": ".py",
   "mimetype": "text/x-python",
   "name": "python",
   "nbconvert_exporter": "python",
   "pygments_lexer": "ipython3",
   "version": "3.7.3"
  }
 },
 "nbformat": 4,
 "nbformat_minor": 1
}
